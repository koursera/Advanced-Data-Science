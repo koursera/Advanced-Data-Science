{
 "cells": [
  {
   "cell_type": "markdown",
   "metadata": {},
   "source": [
    "# Seattle Collisions - Deployment"
   ]
  },
  {
   "cell_type": "markdown",
   "metadata": {},
   "source": [
    "The final chapter here is deployment and the data product.  The end goal is to have this hosted in nbviewer as a dashboard."
   ]
  },
  {
   "cell_type": "code",
   "execution_count": 29,
   "metadata": {},
   "outputs": [],
   "source": [
    "from sklearn.neighbors import BallTree\n",
    "from sklearn import metrics\n",
    "from sklearn.metrics import mean_absolute_error\n",
    "from sklearn.metrics import mean_squared_error\n",
    "\n",
    "from math import sqrt\n",
    "import pandas as pd\n",
    "import types\n",
    "import itertools\n",
    "import numpy as np\n",
    "from datetime import datetime, timedelta, timezone \n",
    "import time\n",
    "\n",
    "import os\n",
    "import folium\n",
    "import folium.plugins"
   ]
  },
  {
   "cell_type": "code",
   "execution_count": 121,
   "metadata": {},
   "outputs": [],
   "source": [
    "df = pd.read_csv('Seattle_Collisions_Final.csv', low_memory = False, parse_dates=True, index_col=0)\n",
    "#print('File downloaded')\n",
    "df['INCDTTM'] = pd.to_datetime(df['INCDTTM'])"
   ]
  },
  {
   "cell_type": "code",
   "execution_count": 119,
   "metadata": {},
   "outputs": [],
   "source": [
    "def nearest_neighbors(df_source, nearest_in_miles = 0.01, quantile = .9, minimum_neighbors = 0):\n",
    "    columns = list('YX')\n",
    "    coordinates = df_source.loc[:,columns].values\n",
    "    radius = nearest_in_miles / 3959.87433\n",
    "    bt = BallTree(np.radians(coordinates), metric='haversine')\n",
    "    neighbors = bt.query_radius(np.radians(coordinates), r=radius, count_only=True, return_distance=False)\n",
    "    if np.quantile(neighbors, quantile, interpolation='nearest') > minimum_neighbors:\n",
    "        return df_source.iloc[np.where(neighbors >= np.quantile(neighbors, quantile, interpolation='nearest'))[0]]\n",
    "    else:\n",
    "        if np.max(neighbors) > 10:\n",
    "            return df_source.iloc[np.where(neighbors >= np.quantile(neighbors, quantile, interpolation='nearest'))[0]]\n",
    "\n",
    "    return pd.DataFrame()"
   ]
  },
  {
   "cell_type": "code",
   "execution_count": 63,
   "metadata": {},
   "outputs": [],
   "source": [
    "week = [0,1,2,3,4,5,6]\n",
    "workweek = [0,1,2,3,4]\n",
    "weekend = [5,6]\n",
    "monday = [0]\n",
    "tuesday = [1]\n",
    "wednesday = [2]\n",
    "thursday = [3]\n",
    "friday = [4]\n",
    "saturday = [5]\n",
    "sunday = [6]\n",
    "\n",
    "monday_color = 'red'\n",
    "tuesday_color = 'yellow'\n",
    "wednesday_color = 'orange'\n",
    "thursday_color = 'blue'\n",
    "friday_color = 'green'\n",
    "saturday_color = 'brown'\n",
    "sunday_color = 'purple'"
   ]
  },
  {
   "cell_type": "code",
   "execution_count": 105,
   "metadata": {},
   "outputs": [],
   "source": [
    "def plot_map(marker_cluster, days = [0,1,2,3,4,5,6], reduce = True, start_date = '2015-12-31', stop_date = '2020-01-01',\\\n",
    "             with_rain = False, cluster_color = 'red', regional=True, quantile=0.9):\n",
    "    if with_rain == False:\n",
    "        query_filter = \"INCDTTM > @start_date & INCDTTM < @stop_date & HITPARKEDCAR == 0 & PRECIPITATION == 0 & WEEKDAY in @days\"\n",
    "    else:\n",
    "        query_filter = \"INCDTTM > @start_date & INCDTTM < @stop_date & HITPARKEDCAR == 0 & PRECIPITATION > 0 & WEEKDAY in @days\"\n",
    "\n",
    "    if regional == True:\n",
    "        df_filtered = df.query(query_filter).groupby('MCCP')\n",
    "        for name, group in df_filtered:\n",
    "            if reduce == True:\n",
    "                group = nearest_neighbors(group, quantile=quantile)\n",
    "            for index, row in group.iterrows():\n",
    "                folium.CircleMarker(location=[row['Y'],row['X']],\n",
    "                                    radius= 10,\n",
    "                                    color=cluster_color,\n",
    "                                    fill_color='orange',\n",
    "                                    fill_opacity=0.5,\n",
    "                                    fill=True).add_to(marker_cluster)\n",
    "    else:\n",
    "        df_filtered = df.query(query_filter)\n",
    "        if reduce == True:\n",
    "            df_filtered = nearest_neighbors(df_filtered, quantile=quantile)\n",
    "        for index, row in df_filtered.iterrows():\n",
    "            folium.CircleMarker(location=[row['Y'],row['X']],\n",
    "                                radius= 10,\n",
    "                                color=cluster_color,\n",
    "                                fill_color='orange',\n",
    "                                fill_opacity=0.5,\n",
    "                                fill=True).add_to(marker_cluster)"
   ]
  },
  {
   "cell_type": "code",
   "execution_count": 111,
   "metadata": {},
   "outputs": [],
   "source": [
    "def display_week_view(m, rain_flag=False):\n",
    "    fg_1a = folium.FeatureGroup(name='Week 1', show=True).add_to(m.m1)\n",
    "    fg_2a = folium.FeatureGroup(name='Week 2', show=True).add_to(m.m2)\n",
    "\n",
    "    mc_1a = folium.plugins.MarkerCluster(name=\"Week 1\")\n",
    "    plot_map(mc_1a, week, with_rain=rain_flag, cluster_color=monday_color, regional=False, quantile=.99)\n",
    "    mc_1a.add_to(fg_1a)\n",
    "\n",
    "    mc_2a = folium.plugins.MarkerCluster(name=\"Week 2\")\n",
    "    plot_map(mc_2a, week, with_rain=rain_flag, cluster_color=tuesday_color, quantile=.99)\n",
    "    mc_2a.add_to(fg_2a)\n",
    "    folium.LayerControl().add_to(m)\n",
    "    return"
   ]
  },
  {
   "cell_type": "code",
   "execution_count": 87,
   "metadata": {},
   "outputs": [],
   "source": [
    "def display_workweek_weekend_view(m, rain_flag=False):\n",
    "    fg_1a = folium.FeatureGroup(name='Workweek', show=True).add_to(m.m1)\n",
    "    fg_2a = folium.FeatureGroup(name='Weekend', show=True).add_to(m.m2)\n",
    "\n",
    "    mc_1a = folium.plugins.MarkerCluster(name=\"Workweek\")\n",
    "    plot_map(mc_1a, workweek, with_rain=rain_flag, cluster_color=monday_color)\n",
    "    mc_1a.add_to(fg_1a)\n",
    "\n",
    "    mc_2a = folium.plugins.MarkerCluster(name=\"Weekend\")\n",
    "    plot_map(mc_2a, weekend, with_rain=rain_flag, cluster_color=tuesday_color)\n",
    "    mc_2a.add_to(fg_2a)\n",
    "    folium.LayerControl().add_to(m)\n",
    "    return"
   ]
  },
  {
   "cell_type": "code",
   "execution_count": 88,
   "metadata": {},
   "outputs": [],
   "source": [
    "def display_workweek_view(m, rain_flag=False):\n",
    "    fg_1a = folium.FeatureGroup(name='Workweek', show=True).add_to(m.m1)\n",
    "    fg_2a = folium.FeatureGroup(name='Workweek', show=True).add_to(m.m2)\n",
    "\n",
    "    mc_1a = folium.plugins.MarkerCluster(name=\"Workweek\")\n",
    "    plot_map(mc_1a, workweek, with_rain=rain_flag, cluster_color=monday_color)\n",
    "    mc_1a.add_to(fg_1a)\n",
    "\n",
    "    mc_2a = folium.plugins.MarkerCluster(name=\"Workweek\")\n",
    "    plot_map(mc_2a, workweek, with_rain=rain_flag, cluster_color=monday_color)\n",
    "    mc_2a.add_to(fg_2a)\n",
    "    folium.LayerControl().add_to(m)\n",
    "    return"
   ]
  },
  {
   "cell_type": "code",
   "execution_count": 65,
   "metadata": {},
   "outputs": [],
   "source": [
    "def display_weekend_view(m, rain_flag=False):\n",
    "    fg_1a = folium.FeatureGroup(name='Weekend', show=True).add_to(m.m1)\n",
    "    fg_2a = folium.FeatureGroup(name='Weekend', show=True).add_to(m.m2)\n",
    "\n",
    "    mc_1a = folium.plugins.MarkerCluster(name=\"Weekend\")\n",
    "    plot_map(mc_1a, weekend, with_rain=rain_flag, cluster_color=monday_color)\n",
    "    mc_1a.add_to(fg_1a)\n",
    "\n",
    "    mc_2a = folium.plugins.MarkerCluster(name=\"Weekend\")\n",
    "    plot_map(mc_2a, weekend, with_rain=rain_flag, cluster_color=monday_color)\n",
    "    mc_2a.add_to(fg_2a)\n",
    "    folium.LayerControl().add_to(m)\n",
    "    return"
   ]
  },
  {
   "cell_type": "code",
   "execution_count": 56,
   "metadata": {},
   "outputs": [],
   "source": [
    "def display_daily_view(m, rain_flag=False):\n",
    "    fg_1a = folium.FeatureGroup(name='Monday', show=True).add_to(m.m1)\n",
    "    fg_1b = folium.FeatureGroup(name='Tuesday', show=False).add_to(m.m1)\n",
    "    fg_1c = folium.FeatureGroup(name='Wednesday', show=False).add_to(m.m1)\n",
    "    fg_1d = folium.FeatureGroup(name='Thursday', show=False).add_to(m.m1)\n",
    "    fg_1e = folium.FeatureGroup(name='Friday', show=False).add_to(m.m1)\n",
    "    fg_1f = folium.FeatureGroup(name='Saturday', show=False).add_to(m.m1)\n",
    "    fg_1g = folium.FeatureGroup(name='Sunday', show=False).add_to(m.m1)\n",
    "\n",
    "    fg_2a = folium.FeatureGroup(name='Monday', show=True).add_to(m.m2)\n",
    "    fg_2b = folium.FeatureGroup(name='Tuesday', show=False).add_to(m.m2)\n",
    "    fg_2c = folium.FeatureGroup(name='Wednesday', show=False).add_to(m.m2)\n",
    "    fg_2d = folium.FeatureGroup(name='Thursday', show=False).add_to(m.m2)\n",
    "    fg_2e = folium.FeatureGroup(name='Friday', show=False).add_to(m.m2)\n",
    "    fg_2f = folium.FeatureGroup(name='Saturday', show=False).add_to(m.m2)\n",
    "    fg_2g = folium.FeatureGroup(name='Sunday', show=False).add_to(m.m2)\n",
    "\n",
    "    mc_1a = folium.plugins.MarkerCluster(name=\"Monday\")\n",
    "    plot_map(mc_1a, monday, with_rain=rain_flag, cluster_color=monday_color)\n",
    "    mc_1b = folium.plugins.MarkerCluster(name=\"Tuesday\")\n",
    "    plot_map(mc_1b, tuesday, with_rain=rain_flag, cluster_color=tuesday_color)\n",
    "    mc_1c = folium.plugins.MarkerCluster(name=\"Wednesday\")\n",
    "    plot_map(mc_1c, wednesday, with_rain=rain_flag, cluster_color=wednesday_color)\n",
    "    mc_1d = folium.plugins.MarkerCluster(name=\"Thursday\")\n",
    "    plot_map(mc_1d, thursday, with_rain=rain_flag, cluster_color=thursday_color)\n",
    "    mc_1e = folium.plugins.MarkerCluster(name=\"Friday\")\n",
    "    plot_map(mc_1e, friday, with_rain=rain_flag, cluster_color=friday_color)\n",
    "    mc_1f = folium.plugins.MarkerCluster(name=\"Saturday\")\n",
    "    plot_map(mc_1f, saturday, with_rain=rain_flag, cluster_color=saturday_color)\n",
    "    mc_1g = folium.plugins.MarkerCluster(name=\"Sunday\")\n",
    "    plot_map(mc_1g, sunday, with_rain=rain_flag, cluster_color=sunday_color)\n",
    "\n",
    "    mc_1a.add_to(fg_1a)\n",
    "    mc_1b.add_to(fg_1b)\n",
    "    mc_1c.add_to(fg_1c)\n",
    "    mc_1d.add_to(fg_1d)\n",
    "    mc_1e.add_to(fg_1e)\n",
    "    mc_1f.add_to(fg_1f)\n",
    "    mc_1g.add_to(fg_1g)\n",
    "\n",
    "    mc_2a = folium.plugins.MarkerCluster(name=\"Monday\")\n",
    "    plot_map(mc_2a, monday, with_rain=rain_flag, cluster_color=monday_color)\n",
    "    mc_2b = folium.plugins.MarkerCluster(name=\"Tuesday\")\n",
    "    plot_map(mc_2b, tuesday, with_rain=rain_flag, cluster_color=tuesday_color)\n",
    "    mc_2c = folium.plugins.MarkerCluster(name=\"Wednesday\")\n",
    "    plot_map(mc_2c, wednesday, with_rain=rain_flag, cluster_color=wednesday_color)\n",
    "    mc_2d = folium.plugins.MarkerCluster(name=\"Thursday\")\n",
    "    plot_map(mc_2d, thursday, with_rain=rain_flag, cluster_color=thursday_color)\n",
    "    mc_2e = folium.plugins.MarkerCluster(name=\"Friday\")\n",
    "    plot_map(mc_2e, friday, with_rain=rain_flag, cluster_color=friday_color)\n",
    "    mc_2f = folium.plugins.MarkerCluster(name=\"Saturday\")\n",
    "    plot_map(mc_2f, saturday, with_rain=rain_flag, cluster_color=saturday_color)\n",
    "    mc_2g = folium.plugins.MarkerCluster(name=\"Sunday\")\n",
    "    plot_map(mc_2g, sunday, with_rain=rain_flag, cluster_color=sunday_color)\n",
    "\n",
    "    mc_2a.add_to(fg_2a)\n",
    "    mc_2b.add_to(fg_2b)\n",
    "    mc_2c.add_to(fg_2c)\n",
    "    mc_2d.add_to(fg_2d)\n",
    "    mc_2e.add_to(fg_2e)\n",
    "    mc_2f.add_to(fg_2f)\n",
    "    mc_2g.add_to(fg_2g)\n",
    "\n",
    "    folium.LayerControl().add_to(m)\n",
    "\n",
    "    return"
   ]
  },
  {
   "cell_type": "code",
   "execution_count": null,
   "metadata": {},
   "outputs": [],
   "source": [
    "m = folium.plugins.DualMap(location=(47.6062, -122.3321), zoom_start=12, control_scale=True)\n",
    "#display_daily_view(m, rain_flag=False)\n",
    "#display_workweek_view(m, rain_flag=True)\n",
    "#display_workweek_weekend_view(m, rain_flag=False)\n",
    "display_week_view(m, rain_flag=False)\n",
    "m"
   ]
  },
  {
   "cell_type": "code",
   "execution_count": null,
   "metadata": {},
   "outputs": [],
   "source": []
  },
  {
   "cell_type": "code",
   "execution_count": null,
   "metadata": {},
   "outputs": [],
   "source": []
  }
 ],
 "metadata": {
  "environment": {
   "name": "tf2-2-3-gpu.2-3.m58",
   "type": "gcloud",
   "uri": "gcr.io/deeplearning-platform-release/tf2-2-3-gpu.2-3:m58"
  },
  "kernelspec": {
   "display_name": "Python 3",
   "language": "python",
   "name": "python3"
  },
  "language_info": {
   "codemirror_mode": {
    "name": "ipython",
    "version": 3
   },
   "file_extension": ".py",
   "mimetype": "text/x-python",
   "name": "python",
   "nbconvert_exporter": "python",
   "pygments_lexer": "ipython3",
   "version": "3.7.8"
  }
 },
 "nbformat": 4,
 "nbformat_minor": 4
}
