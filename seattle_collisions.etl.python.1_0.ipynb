{
 "cells": [
  {
   "cell_type": "markdown",
   "metadata": {},
   "source": [
    "# Seattle Collisions ETL"
   ]
  },
  {
   "cell_type": "markdown",
   "metadata": {},
   "source": [
    "This workbook merges weather data with the collision data.  While the collision data has a weather attribute it is categorical without supporting details.  Merging the weather is done by taking a weather file extracted from the Seattle KBFI station and merging it with the collision data.  There are date/time holes in the weather data so this needs to be handled but for the most part there is a weather reading for every collision.\n",
    "<BR>\n",
    "There is also the creation of a secondary weather file that is use for time series regression.  This just rolls us the weather a bit differently so it can be used with Prophet."
   ]
  },
  {
   "cell_type": "code",
   "execution_count": 6,
   "metadata": {},
   "outputs": [],
   "source": [
    "import pandas as pd\n",
    "import types\n",
    "import itertools\n",
    "import numpy as np\n",
    "from datetime import datetime, timedelta, timezone \n",
    "import time\n",
    "from astral import Astral\n",
    "\n",
    "import os\n",
    "import folium\n",
    "import seaborn as sns\n",
    "import matplotlib.ticker as ticker\n",
    "import matplotlib.pyplot as plt\n",
    "from matplotlib.ticker import NullFormatter\n",
    "%matplotlib inline"
   ]
  },
  {
   "cell_type": "code",
   "execution_count": 2,
   "metadata": {},
   "outputs": [
    {
     "name": "stdout",
     "output_type": "stream",
     "text": [
      "File downloaded\n"
     ]
    }
   ],
   "source": [
    "df = pd.read_csv('Seattle_Collisions.csv', low_memory=False)\n",
    "print('File downloaded')"
   ]
  },
  {
   "cell_type": "code",
   "execution_count": null,
   "metadata": {},
   "outputs": [],
   "source": [
    "df.head()"
   ]
  },
  {
   "cell_type": "code",
   "execution_count": null,
   "metadata": {},
   "outputs": [],
   "source": [
    "df.isna().sum()/len(df)"
   ]
  },
  {
   "cell_type": "code",
   "execution_count": 5,
   "metadata": {},
   "outputs": [],
   "source": [
    "df.dropna(subset=['X', 'Y'],inplace=True)\n",
    "df['INCDTTM'] = pd.to_datetime(df['INCDTTM'])\n",
    "df['HOUR'] = df['INCDTTM'].dt.strftime('%H').astype(int)\n",
    "df['DATE'] = df.INCDTTM.dt.strftime('%m/%d/%y')"
   ]
  },
  {
   "cell_type": "code",
   "execution_count": 6,
   "metadata": {},
   "outputs": [],
   "source": [
    "df = df.assign(TEMPERATURE=np.NaN, WINDCHILL=np.NaN,PRECIPITATION=np.NaN,SNOWDEPTH=np.NaN,\\\n",
    "          VISIBILITY=np.NaN, CLOUDCOVER=np.NaN, WEATHERCONDITIONS='', SUNSET=pd.NaT, SUNRISE=pd.NaT, MOONPHASE=np.NaN)"
   ]
  },
  {
   "cell_type": "code",
   "execution_count": null,
   "metadata": {},
   "outputs": [],
   "source": [
    "df.head().T"
   ]
  },
  {
   "cell_type": "code",
   "execution_count": null,
   "metadata": {},
   "outputs": [],
   "source": [
    "df.dtypes"
   ]
  },
  {
   "cell_type": "code",
   "execution_count": 11,
   "metadata": {},
   "outputs": [],
   "source": [
    "weather_raw = pd.read_csv('seattle_weather-01-01-2004_06-01-2020.csv',low_memory=True,index_col=0)"
   ]
  },
  {
   "cell_type": "code",
   "execution_count": null,
   "metadata": {},
   "outputs": [],
   "source": [
    "weather_raw.head().T"
   ]
  },
  {
   "cell_type": "code",
   "execution_count": 13,
   "metadata": {},
   "outputs": [],
   "source": [
    "weather_raw.drop(['Name','Maximum Temperature', 'Minimum Temperature','Heat Index','Relative Humidity',\\\n",
    "                  'Wind Speed','Wind Gust'], axis=1, inplace = True)"
   ]
  },
  {
   "cell_type": "code",
   "execution_count": 14,
   "metadata": {},
   "outputs": [],
   "source": [
    "weather_raw.rename(columns = {'Temperature':'TEMPERATURE', 'Wind Chill':'WINDCHILL','Precipitation':'PRECIPITATION', 'Snow Depth':'SNOWDEPTH',\\\n",
    "                             'Visibility':'VISIBILITY','Cloud Cover':'CLOUDCOVER','Conditions':'WEATHERCONDITIONS','Sunset':'SUNSET',\\\n",
    "                              'Sunrise':'SUNRISE','Moon Phase': 'MOONPHASE'}, inplace = True)"
   ]
  },
  {
   "cell_type": "code",
   "execution_count": 15,
   "metadata": {},
   "outputs": [],
   "source": [
    "weather_raw['TIMESTAMP'] = pd.to_datetime(weather_raw['Date time'])\n",
    "weather_raw['HOUR'] = weather_raw['TIMESTAMP'].dt.strftime('%H').astype(int)\n",
    "weather_raw['DATE'] = weather_raw.TIMESTAMP.dt.strftime('%m/%d/%y')\n",
    "weather_raw['KEY'] = weather_raw.apply(lambda x: (x['DATE'] + '-' + str(x['HOUR'])), axis=1)\n",
    "weather_raw.set_index('KEY', inplace=True)"
   ]
  },
  {
   "cell_type": "code",
   "execution_count": null,
   "metadata": {},
   "outputs": [],
   "source": [
    "weather_raw.head().T"
   ]
  },
  {
   "cell_type": "code",
   "execution_count": null,
   "metadata": {},
   "outputs": [],
   "source": [
    "weather_raw.isna().sum()/len(weather_raw)"
   ]
  },
  {
   "cell_type": "code",
   "execution_count": 18,
   "metadata": {},
   "outputs": [],
   "source": [
    "def find_weather_reading(df_w, date, hour):\n",
    "    key = date + '-' + str(hour)\n",
    "    if (df_w.index == key).any() == True:\n",
    "        return df_w[(df_w.index == key)].to_dict(orient='list')\n",
    "    \n",
    "    while len(df_w[(df_w.DATE == date)]) == 0:\n",
    "#        print('Weather gap - Date: ' + date + ' ' + str(hour))\n",
    "        date2 = datetime.strptime(date, '%m/%d/%y')\n",
    "        date2 = date2 + timedelta(days=1)\n",
    "        date = date2.strftime('%m/%d/%y')\n",
    "\n",
    "    while len(df_w[(df_w.DATE == date) & (df_w.HOUR == hour)]) == 0:\n",
    "#        print('Weather gap - Hour: ' + date + ' ' + str(hour))\n",
    "        if hour == 23: \n",
    "            hour = 0\n",
    "        else:\n",
    "            hour += 1\n",
    "    key = date + '-' + str(hour)\n",
    "    return df_w[(df_w.index == key)].to_dict(orient='list')"
   ]
  },
  {
   "cell_type": "code",
   "execution_count": 19,
   "metadata": {},
   "outputs": [
    {
     "data": {
      "text/plain": [
       "{'Date time': ['03/27/2013 14:00:00'],\n",
       " 'TEMPERATURE': [50.7],\n",
       " 'WINDCHILL': [nan],\n",
       " 'PRECIPITATION': [0.0],\n",
       " 'SNOWDEPTH': [nan],\n",
       " 'VISIBILITY': [9.9],\n",
       " 'CLOUDCOVER': [0.6],\n",
       " 'WEATHERCONDITIONS': ['Clear'],\n",
       " 'SUNSET': ['2013-03-27T19:32:39-07:00'],\n",
       " 'SUNRISE': ['2013-03-27T06:57:14-07:00'],\n",
       " 'MOONPHASE': [0.5],\n",
       " 'TIMESTAMP': [Timestamp('2013-03-27 14:00:00')],\n",
       " 'HOUR': [14],\n",
       " 'DATE': ['03/27/13']}"
      ]
     },
     "execution_count": 19,
     "metadata": {},
     "output_type": "execute_result"
    }
   ],
   "source": [
    "find_weather_reading(weather_raw, '03/27/13', 14)"
   ]
  },
  {
   "cell_type": "code",
   "execution_count": null,
   "metadata": {},
   "outputs": [],
   "source": [
    "copy_count = 1\n",
    "when_to_log = 1000\n",
    "for row in df.itertuples(index=True):\n",
    "    try:\n",
    "        i = getattr(row, 'Index')\n",
    "        s = find_weather_reading(weather_raw, getattr(row, 'DATE'), getattr(row, 'HOUR'))\n",
    "        df.at[i, 'TEMPERATURE'] = s['TEMPERATURE'][0]\n",
    "        df.at[i, 'WINDCHILL'] = s['WINDCHILL'][0]\n",
    "        df.at[i, 'PRECIPITATION'] = s['PRECIPITATION'][0]\n",
    "        df.at[i, 'SNOWDEPTH'] = s['SNOWDEPTH'][0]\n",
    "        df.at[i, 'VISIBILITY'] = s['VISIBILITY'][0]\n",
    "        df.at[i, 'CLOUDCOVER'] = s['CLOUDCOVER'][0]\n",
    "        df.at[i, 'WEATHERCONDITIONS'] = s['WEATHERCONDITIONS'][0]\n",
    "        df.at[i, 'SUNSET'] = s['SUNSET'][0]\n",
    "        df.at[i, 'SUNRISE'] = s['SUNRISE'][0]\n",
    "        df.at[i, 'MOONPHASE'] = s['MOONPHASE'][0]\n",
    "       # break\n",
    "        if np.mod(copy_count, when_to_log) == 0:\n",
    "            print('Status: ' + str(copy_count))\n",
    "        copy_count += 1\n",
    "    except Exception as e: \n",
    "        print(row)\n",
    "        print(e)\n",
    "        break"
   ]
  },
  {
   "cell_type": "code",
   "execution_count": null,
   "metadata": {},
   "outputs": [],
   "source": [
    "df.head().T"
   ]
  },
  {
   "cell_type": "code",
   "execution_count": null,
   "metadata": {},
   "outputs": [],
   "source": [
    "df.to_csv('Seattle_Collisions_Weather-1.csv')"
   ]
  },
  {
   "cell_type": "code",
   "execution_count": 21,
   "metadata": {},
   "outputs": [],
   "source": [
    "a = Astral()\n",
    "a.solar_depression = 'civil'\n",
    "seattle_astral  = a['Seattle']\n",
    "\n",
    "def solar_azimuth(ts):\n",
    "    try:\n",
    "        #ts = datetime.strptime(ts, '%Y/%m/%d')\n",
    "        ts = pd.to_datetime(ts)\n",
    "        return seattle_astral.solar_azimuth(ts)\n",
    "    except:\n",
    "        return np.nan\n",
    "\n",
    "def solar_elevation(ts):\n",
    "    try:\n",
    "        return seattle_astral.solar_elevation(ts)\n",
    "    except:\n",
    "        return np.nan"
   ]
  },
  {
   "cell_type": "markdown",
   "metadata": {},
   "source": [
    "# Generate a daily weather file - Needed for Time Series"
   ]
  },
  {
   "cell_type": "code",
   "execution_count": 24,
   "metadata": {},
   "outputs": [],
   "source": [
    "weather_raw = pd.read_csv('seattle_weather-01-01-2004_06-01-2020.csv',low_memory=True,index_col=0)\n",
    "weather_raw.drop(['Name','Maximum Temperature', 'Minimum Temperature','Heat Index','Relative Humidity',\\\n",
    "                  'Wind Speed','Wind Gust'], axis=1, inplace = True)\n",
    "weather_raw.rename(columns = {'Temperature':'TEMPERATURE', 'Wind Chill':'WINDCHILL','Precipitation':'PRECIPITATION', 'Snow Depth':'SNOWDEPTH',\\\n",
    "                             'Visibility':'VISIBILITY','Cloud Cover':'CLOUDCOVER','Conditions':'WEATHERCONDITIONS','Sunset':'SUNSET',\\\n",
    "                              'Sunrise':'SUNRISE','Moon Phase': 'MOONPHASE'}, inplace = True)\n",
    "weather_raw['TIMESTAMP'] = pd.to_datetime(weather_raw['Date time'])\n",
    "weather_raw['HOUR'] = weather_raw['TIMESTAMP'].dt.strftime('%H').astype(int)\n",
    "weather_raw['DATE'] = weather_raw.TIMESTAMP.dt.strftime('%Y-%m-%d')\n",
    "weather_raw['KEY'] = weather_raw.apply(lambda x: (x['DATE'] + '-' + str(x['HOUR'])), axis=1)\n",
    "weather_raw['SOLARAZIMUTH'] = weather_raw.apply(lambda x: round(solar_azimuth(x.DATE)), axis=1)\n",
    "weather_raw.set_index('KEY', inplace=True)\n",
    "weather_raw.drop(['Date time'], axis=1, inplace=True)"
   ]
  },
  {
   "cell_type": "code",
   "execution_count": 26,
   "metadata": {},
   "outputs": [],
   "source": [
    "#weather_raw.head()\n",
    "weather_raw.to_csv('Seattle_Weather_Daily.csv')"
   ]
  },
  {
   "cell_type": "code",
   "execution_count": null,
   "metadata": {},
   "outputs": [],
   "source": []
  }
 ],
 "metadata": {
  "environment": {
   "name": "tf2-2-3-gpu.2-3.m58",
   "type": "gcloud",
   "uri": "gcr.io/deeplearning-platform-release/tf2-2-3-gpu.2-3:m58"
  },
  "kernelspec": {
   "display_name": "Python 3",
   "language": "python",
   "name": "python3"
  },
  "language_info": {
   "codemirror_mode": {
    "name": "ipython",
    "version": 3
   },
   "file_extension": ".py",
   "mimetype": "text/x-python",
   "name": "python",
   "nbconvert_exporter": "python",
   "pygments_lexer": "ipython3",
   "version": "3.7.8"
  }
 },
 "nbformat": 4,
 "nbformat_minor": 4
}
